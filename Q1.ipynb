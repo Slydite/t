{
 "cells": [
  {
   "cell_type": "code",
   "execution_count": null,
   "metadata": {},
   "outputs": [],
   "source": [
    "import random"
   ]
  },
  {
   "cell_type": "markdown",
   "metadata": {},
   "source": [
    "Let T be 0 and H be 1"
   ]
  },
  {
   "cell_type": "code",
   "execution_count": 16,
   "metadata": {},
   "outputs": [],
   "source": [
    "def simulate(n):\n",
    "    \n",
    "    expectation, expectation_2, variance = 0, 0, 0\n",
    "\n",
    "    for i in range(1, n):\n",
    "        \n",
    "        result = random.choice([0, 1])  \n",
    "        expectation = expectation + result\n",
    "        expectation_2 = expectation_2 + (result) ^ 2\n",
    "\n",
    "    expectation = expectation / n\n",
    "    expectation_2 = expectation_2 / n\n",
    "\n",
    "    variance = expectation_2 - expectation\n",
    "    return f\"Expectation={expectation} and Variance={variance}\"\n",
    "        \n"
   ]
  },
  {
   "cell_type": "code",
   "execution_count": null,
   "metadata": {},
   "outputs": [
    {
     "name": "stdout",
     "output_type": "stream",
     "text": [
      "10:  Expectation=0.6 and Variance=-0.19999999999999996\n",
      "20:  Expectation=0.5 and Variance=-0.3\n",
      "400:  Expectation=0.5025 and Variance=-0.03499999999999992\n",
      "10000:  Expectation=0.4939 and Variance=0.0014000000000000123\n",
      "100000:  Expectation=0.50041 and Variance=0.0017800000000000038\n"
     ]
    }
   ],
   "source": [
    "def main():\n",
    "    print(\"10: \",simulate(10))\n",
    "    print(\"20: \",simulate(20))\n",
    "    print(\"400: \",simulate(400))\n",
    "    print(\"10000: \",simulate(10000))\n",
    "    print(\"100000: \",simulate(100000))\n",
    "\n",
    "if __name__ == \"__main__\":\n",
    "    main()"
   ]
  },
  {
   "cell_type": "markdown",
   "metadata": {},
   "source": [
    "As N grows, the expectation approaches 0.5 and the variance diminishes to 0."
   ]
  }
 ],
 "metadata": {
  "kernelspec": {
   "display_name": "Python 3.9.12 ('base')",
   "language": "python",
   "name": "python3"
  },
  "language_info": {
   "codemirror_mode": {
    "name": "ipython",
    "version": 3
   },
   "file_extension": ".py",
   "mimetype": "text/x-python",
   "name": "python",
   "nbconvert_exporter": "python",
   "pygments_lexer": "ipython3",
   "version": "3.9.12"
  },
  "orig_nbformat": 4,
  "vscode": {
   "interpreter": {
    "hash": "d5785878ce8614bb6e899c976766c6d82813b7b22fddd80f181e2e595b40d5fa"
   }
  }
 },
 "nbformat": 4,
 "nbformat_minor": 2
}
